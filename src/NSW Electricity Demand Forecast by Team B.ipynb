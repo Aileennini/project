{
 "cells": [
  {
   "cell_type": "markdown",
   "metadata": {
    "id": "KvzS9oPYBJQZ"
   },
   "source": [
    "<a href=\"https://colab.research.google.com/github/UNSW-ZZSC9020-2023H2/project/blob/main/src/GoogleColab.ipynb\" target=\"_parent\">\n",
    "  <img src=\"https://colab.research.google.com/assets/colab-badge.svg\" alt=\"Open In Colab\"/>\n",
    "</a>"
   ]
  },
  {
   "cell_type": "markdown",
   "metadata": {},
   "source": [
    "# NSW Electricity Demand Forecast by Team B"
   ]
  },
  {
   "cell_type": "code",
   "execution_count": 2,
   "metadata": {
    "colab": {
     "base_uri": "https://localhost:8080/"
    },
    "id": "brynNOEi6FzS",
    "outputId": "41c6d4a4-bc13-4b14-c75c-951705efe1fb"
   },
   "outputs": [],
   "source": [
    "# Clone the ZZSC9020 project repository from GitHub\n",
    "# !git clone https://github.com/UNSW-ZZSC9020-2023H2/project.git"
   ]
  },
  {
   "cell_type": "code",
   "execution_count": 3,
   "metadata": {
    "id": "44VdVtiX7Ukn"
   },
   "outputs": [],
   "source": [
    "# # Create a data folder\n",
    "# !mkdir -p data\n",
    "# # Joint forecastdemand_nsw files into a single file. \n",
    "# !cat project/data/forecastdemand_nsw.csv.zip.part* > data/forecastdemand_nsw.csv.zip"
   ]
  },
  {
   "cell_type": "code",
   "execution_count": 4,
   "metadata": {
    "colab": {
     "base_uri": "https://localhost:8080/"
    },
    "id": "GdnC6dlz8agZ",
    "outputId": "fee967de-019b-44d9-83c0-526577b1baf0"
   },
   "outputs": [],
   "source": [
    "# # Unzip the data files into the data folder\n",
    "# !unzip data/forecastdemand_nsw.csv.zip -d data\n",
    "# !unzip project/data/temperature_nsw.csv.zip -d data\n",
    "# !unzip project/data/totaldemand_nsw.csv.zip -d data\n",
    "\n",
    "# # Remove forecastdemand_nsw.csv.zip\n",
    "# !rm data/forecastdemand_nsw.csv.zip"
   ]
  },
  {
   "cell_type": "markdown",
   "metadata": {},
   "source": [
    "## Data Exploration"
   ]
  },
  {
   "cell_type": "markdown",
   "metadata": {},
   "source": [
    "### Read Data"
   ]
  },
  {
   "cell_type": "markdown",
   "metadata": {},
   "source": [
    "We use 4 data sources: temperature_nsw.csv (provided by the course), totaldemand_nsw.csv (provided by the course), nsw_population.csv (collected from the [website of Austraian Bureau of Statistics](https://www.abs.gov.au/statistics/people/population/national-state-and-territory-population/dec-2022)) and nsw_gdp.csv (collected from the [website of Austraian Bureau of Statistics](https://www.abs.gov.au/statistics/economy/national-accounts/australian-national-accounts-national-income-expenditure-and-product/latest-release#state-and-territory-final-demand)). These four files covers the information of temperature, population, gdp and demand, which are essential for our modeling. "
   ]
  }
 ],
 "metadata": {
  "colab": {
   "collapsed_sections": [],
   "name": "GoogleColab.ipynb",
   "provenance": []
  },
  "kernelspec": {
   "display_name": "Python 3 (ipykernel)",
   "language": "python",
   "name": "python3"
  },
  "language_info": {
   "codemirror_mode": {
    "name": "ipython",
    "version": 3
   },
   "file_extension": ".py",
   "mimetype": "text/x-python",
   "name": "python",
   "nbconvert_exporter": "python",
   "pygments_lexer": "ipython3",
   "version": "3.11.5"
  }
 },
 "nbformat": 4,
 "nbformat_minor": 4
}
